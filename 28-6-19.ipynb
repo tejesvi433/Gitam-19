{
 "cells": [
  {
   "cell_type": "code",
   "execution_count": 1,
   "metadata": {},
   "outputs": [
    {
     "name": "stdout",
     "output_type": "stream",
     "text": [
      "slicing last column: [3 6]\n"
     ]
    }
   ],
   "source": [
    "import numpy as np\n",
    "a1=np.array([(1,2,3),(4,5,6)])\n",
    "print(\"slicing last column:\",a1[:,2])\n"
   ]
  },
  {
   "cell_type": "code",
   "execution_count": 3,
   "metadata": {},
   "outputs": [
    {
     "name": "stdout",
     "output_type": "stream",
     "text": [
      "first row: [1 2 3]\n",
      "second row : [4 5 6]\n"
     ]
    }
   ],
   "source": [
    "a1=np.array([(1,2,3),(4,5,6)])\n",
    "print(\"first row:\",a1[0])\n",
    "print(\"second row :\",a1[1])\n"
   ]
  },
  {
   "cell_type": "code",
   "execution_count": 4,
   "metadata": {},
   "outputs": [
    {
     "name": "stdout",
     "output_type": "stream",
     "text": [
      "[5.15402883 3.69913875 3.94671926 5.50479627 3.96726571 4.87610241\n",
      " 4.99077247 5.97605982 5.55822886 6.08873411]\n",
      "Min value = 3.699138752646686\n",
      "Max value =  6.088734113654162\n",
      "Mean value = 4.9761846496193805\n",
      "Median value = 5.0724006515321065\n"
     ]
    }
   ],
   "source": [
    "a1=np.random.normal(5,1,10)\n",
    "print(a1)\n",
    "print(\"Min value =\",np.min(a1))\n",
    "print(\"Max value = \",np.max(a1))\n",
    "print(\"Mean value =\",np.mean(a1))\n",
    "print(\"Median value =\",np.median(a1))"
   ]
  },
  {
   "cell_type": "code",
   "execution_count": 5,
   "metadata": {},
   "outputs": [
    {
     "data": {
      "text/plain": [
       "array([[ 5,  8],\n",
       "       [13, 20]])"
      ]
     },
     "execution_count": 5,
     "metadata": {},
     "output_type": "execute_result"
    }
   ],
   "source": [
    "c1=np.array([(1,2),(3,4)])\n",
    "c2=np.array([(3,4),(1,2)])\n",
    "np.dot(c1,c2)"
   ]
  },
  {
   "cell_type": "code",
   "execution_count": 12,
   "metadata": {},
   "outputs": [
    {
     "name": "stdout",
     "output_type": "stream",
     "text": [
      "        name              emailid  mobile number address\n",
      "0     urjita     urjita@gmail.com            123     hyd\n",
      "1    tejesvi    tejesvi@gmail.com            234     hyd\n",
      "2     shruti     shruti@gmail.com            345     hyd\n",
      "3   shanmukh   shanmukh@gmail.com            456     hyd\n",
      "4  bharadwaj  bharadwaj@gmail.com            567     hyd\n",
      "5   charitha   charitha@gmail.com            678     hyd\n"
     ]
    }
   ],
   "source": [
    "import pandas as pd\n",
    "dict = {\"name\":[\"urjita\",\"tejesvi\",\"shruti\",\"shanmukh\",\"bharadwaj\",\"charitha\"],\"emailid\":[\"urjita@gmail.com\",\"tejesvi@gmail.com\",\"shruti@gmail.com\",\"shanmukh@gmail.com\",\"bharadwaj@gmail.com\",\"charitha@gmail.com\"],\n",
    "        \"mobile number\":[123,234,345,456,567,678],\n",
    "        \"address\":[\"hyd\",\"hyd\",\"hyd\",\"hyd\",\"hyd\",\"hyd\"]}\n",
    "b=pd.DataFrame(dict)\n",
    "print(b)"
   ]
  },
  {
   "cell_type": "code",
   "execution_count": null,
   "metadata": {},
   "outputs": [],
   "source": [
    "\n",
    "`"
   ]
  }
 ],
 "metadata": {
  "kernelspec": {
   "display_name": "Python 3",
   "language": "python",
   "name": "python3"
  },
  "language_info": {
   "codemirror_mode": {
    "name": "ipython",
    "version": 3
   },
   "file_extension": ".py",
   "mimetype": "text/x-python",
   "name": "python",
   "nbconvert_exporter": "python",
   "pygments_lexer": "ipython3",
   "version": "3.7.3"
  }
 },
 "nbformat": 4,
 "nbformat_minor": 2
}
