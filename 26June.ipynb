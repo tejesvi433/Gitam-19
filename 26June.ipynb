{
 "cells": [
  {
   "cell_type": "markdown",
   "metadata": {
    "colab_type": "text",
    "id": "VS0revy04zSR"
   },
   "source": [
    "Boolean Method Examples"
   ]
  },
  {
   "cell_type": "code",
   "execution_count": 2,
   "metadata": {
    "colab": {
     "base_uri": "https://localhost:8080/",
     "height": 52
    },
    "colab_type": "code",
    "executionInfo": {
     "elapsed": 850,
     "status": "ok",
     "timestamp": 1561521128187,
     "user": {
      "displayName": "Rithika reddy",
      "photoUrl": "",
      "userId": "13545140473716287232"
     },
     "user_tz": -330
    },
    "id": "rT2LEghH5Ae7",
    "outputId": "cd012676-775a-46a8-9e86-87d04e8766eb"
   },
   "outputs": [
    {
     "name": "stdout",
     "output_type": "stream",
     "text": [
      "False\n",
      "True\n"
     ]
    }
   ],
   "source": [
    "s='Application' \n",
    "s1='A'\n",
    "print(s.isupper())\n",
    "print(s1.isupper()) "
   ]
  },
  {
   "cell_type": "code",
   "execution_count": 3,
   "metadata": {
    "colab": {
     "base_uri": "https://localhost:8080/",
     "height": 52
    },
    "colab_type": "code",
    "executionInfo": {
     "elapsed": 962,
     "status": "ok",
     "timestamp": 1561521344781,
     "user": {
      "displayName": "Rithika reddy",
      "photoUrl": "",
      "userId": "13545140473716287232"
     },
     "user_tz": -330
    },
    "id": "xP9nWj016fXI",
    "outputId": "45b77a8d-aca2-495e-d432-55981c507d57"
   },
   "outputs": [
    {
     "name": "stdout",
     "output_type": "stream",
     "text": [
      "False\n",
      "False\n"
     ]
    }
   ],
   "source": [
    "s='Python is Easy Programming to learn and intersting'\n",
    "s1='python'\n",
    "print(s.isupper())\n",
    "print(s1.isupper())"
   ]
  },
  {
   "cell_type": "code",
   "execution_count": 4,
   "metadata": {
    "colab": {
     "base_uri": "https://localhost:8080/",
     "height": 52
    },
    "colab_type": "code",
    "executionInfo": {
     "elapsed": 929,
     "status": "ok",
     "timestamp": 1561521599073,
     "user": {
      "displayName": "Rithika reddy",
      "photoUrl": "",
      "userId": "13545140473716287232"
     },
     "user_tz": -330
    },
    "id": "Si-Zh_mL7OOC",
    "outputId": "6abafbea-cbd6-4ff2-8b71-bdb9d5a58422"
   },
   "outputs": [
    {
     "name": "stdout",
     "output_type": "stream",
     "text": [
      "True\n",
      "False\n"
     ]
    }
   ],
   "source": [
    "s=\"5678\"\n",
    "s1=\"App1889\"\n",
    "print(s.isnumeric())\n",
    "print(s1.isnumeric())"
   ]
  },
  {
   "cell_type": "code",
   "execution_count": 5,
   "metadata": {
    "colab": {
     "base_uri": "https://localhost:8080/",
     "height": 52
    },
    "colab_type": "code",
    "executionInfo": {
     "elapsed": 1061,
     "status": "ok",
     "timestamp": 1561521675964,
     "user": {
      "displayName": "Rithika reddy",
      "photoUrl": "",
      "userId": "13545140473716287232"
     },
     "user_tz": -330
    },
    "id": "EXVM_AUu8Ltj",
    "outputId": "dd89517a-3666-4e1f-963d-0694736a508f"
   },
   "outputs": [
    {
     "name": "stdout",
     "output_type": "stream",
     "text": [
      "True\n",
      "False\n"
     ]
    }
   ],
   "source": [
    "s=\"Application\"\n",
    "s1=\"App1889\"\n",
    "print(s.isalpha())\n",
    "print(s1.isalpha())"
   ]
  },
  {
   "cell_type": "markdown",
   "metadata": {
    "colab_type": "text",
    "id": "k7yXZhKn_R1s"
   },
   "source": [
    "String Method Examples"
   ]
  },
  {
   "cell_type": "code",
   "execution_count": 7,
   "metadata": {
    "colab": {
     "base_uri": "https://localhost:8080/",
     "height": 34
    },
    "colab_type": "code",
    "executionInfo": {
     "elapsed": 2924,
     "status": "ok",
     "timestamp": 1561522664333,
     "user": {
      "displayName": "Rithika reddy",
      "photoUrl": "",
      "userId": "13545140473716287232"
     },
     "user_tz": -330
    },
    "id": "wN2fi2fM_ahR",
    "outputId": "f2ed7b88-c866-4d38-dc7a-f42279271944"
   },
   "outputs": [
    {
     "name": "stdout",
     "output_type": "stream",
     "text": [
      "P y t h o n\n"
     ]
    }
   ],
   "source": [
    "str=(\"Python\")\n",
    "print(\" \".join(str))"
   ]
  },
  {
   "cell_type": "code",
   "execution_count": 8,
   "metadata": {
    "colab": {
     "base_uri": "https://localhost:8080/",
     "height": 34
    },
    "colab_type": "code",
    "executionInfo": {
     "elapsed": 944,
     "status": "ok",
     "timestamp": 1561522783839,
     "user": {
      "displayName": "Rithika reddy",
      "photoUrl": "",
      "userId": "13545140473716287232"
     },
     "user_tz": -330
    },
    "id": "TftE19_wARgF",
    "outputId": "5d573f5d-aae9-4247-d277-3676e459c2d3"
   },
   "outputs": [
    {
     "name": "stdout",
     "output_type": "stream",
     "text": [
      "Python,Programming,Easy\n"
     ]
    }
   ],
   "source": [
    "print(\",\".join([\"Python\",\"Programming\",\"Easy\"]))"
   ]
  },
  {
   "cell_type": "code",
   "execution_count": 11,
   "metadata": {
    "colab": {
     "base_uri": "https://localhost:8080/",
     "height": 70
    },
    "colab_type": "code",
    "executionInfo": {
     "elapsed": 892,
     "status": "ok",
     "timestamp": 1561523153895,
     "user": {
      "displayName": "Rithika reddy",
      "photoUrl": "",
      "userId": "13545140473716287232"
     },
     "user_tz": -330
    },
    "id": "gWR6VNnRAvX2",
    "outputId": "00070219-98c7-4455-e263-2205aff82757"
   },
   "outputs": [
    {
     "name": "stdout",
     "output_type": "stream",
     "text": [
      "['Python', 'Programming', 'is', 'easy', 'to', 'learn']\n",
      "['Python Progr', 'mming is e', 'sy to le', 'rn']\n",
      "['Python', 'Programming', 'is', 'easy', 'to', 'learn']\n"
     ]
    }
   ],
   "source": [
    "s=\"Python Programming is easy to learn\"\n",
    "print(s.split())\n",
    "print(s.split(\"a\"))\n",
    "print(s.split())"
   ]
  },
  {
   "cell_type": "code",
   "execution_count": 12,
   "metadata": {
    "colab": {
     "base_uri": "https://localhost:8080/",
     "height": 52
    },
    "colab_type": "code",
    "executionInfo": {
     "elapsed": 4388,
     "status": "ok",
     "timestamp": 1561523498341,
     "user": {
      "displayName": "Rithika reddy",
      "photoUrl": "",
      "userId": "13545140473716287232"
     },
     "user_tz": -330
    },
    "id": "xWb77tYcCAmD",
    "outputId": "286e6a49-21d6-4da1-b3cd-d56d3721448c"
   },
   "outputs": [
    {
     "name": "stdout",
     "output_type": "stream",
     "text": [
      "['Python', 'Programming', 'is', 'easy', 'to', 'learn']\n",
      "2\n"
     ]
    }
   ],
   "source": [
    "s=\"Python Programming is easy to learn\"\n",
    "lst=s.split()\n",
    "print(lst)\n",
    "print(lst.index(\"is\"))"
   ]
  },
  {
   "cell_type": "code",
   "execution_count": 13,
   "metadata": {
    "colab": {
     "base_uri": "https://localhost:8080/",
     "height": 52
    },
    "colab_type": "code",
    "executionInfo": {
     "elapsed": 909,
     "status": "ok",
     "timestamp": 1561526050524,
     "user": {
      "displayName": "Rithika reddy",
      "photoUrl": "",
      "userId": "13545140473716287232"
     },
     "user_tz": -330
    },
    "id": "nQaD6S55MktT",
    "outputId": "295152f6-09f0-4b34-a804-2d9c40c3eccd"
   },
   "outputs": [
    {
     "name": "stdout",
     "output_type": "stream",
     "text": [
      "('Python', 'Programming', 1989, 2019, 'Machine Learning', 'AI')\n",
      "(1, 2, 3, 4, 5)\n"
     ]
    }
   ],
   "source": [
    "t1=(\"Python\",\"Programming\",1989,2019,\"Machine Learning\",\"AI\")\n",
    "t2=(1,2,3,4,5)\n",
    "print(t1)\n",
    "print(t2)"
   ]
  },
  {
   "cell_type": "code",
   "execution_count": 15,
   "metadata": {
    "colab": {
     "base_uri": "https://localhost:8080/",
     "height": 87
    },
    "colab_type": "code",
    "executionInfo": {
     "elapsed": 923,
     "status": "ok",
     "timestamp": 1561526560053,
     "user": {
      "displayName": "Rithika reddy",
      "photoUrl": "",
      "userId": "13545140473716287232"
     },
     "user_tz": -330
    },
    "id": "F_ueFuzHNKjs",
    "outputId": "3dc8a6f9-de4a-478a-e0d9-9819aaa8eb1c"
   },
   "outputs": [
    {
     "name": "stdout",
     "output_type": "stream",
     "text": [
      "t1[0]=  Python\n",
      "t1[2]=  1989\n",
      "t1[-1]=  A1\n",
      "t1[2:-2]=  (1989, 2019)\n"
     ]
    }
   ],
   "source": [
    "t1=(\"Python\",\"Programming\",1989,2019,\"Machine Learning\",\"A1\")\n",
    "print(\"t1[0]= \",t1[0])\n",
    "print(\"t1[2]= \",t1[2])\n",
    "print(\"t1[-1]= \",t1[-1])\n",
    "print(\"t1[2:-2]= \",t1[2:-2])"
   ]
  },
  {
   "cell_type": "code",
   "execution_count": 16,
   "metadata": {
    "colab": {
     "base_uri": "https://localhost:8080/",
     "height": 132
    },
    "colab_type": "code",
    "executionInfo": {
     "elapsed": 940,
     "status": "error",
     "timestamp": 1561526700488,
     "user": {
      "displayName": "Rithika reddy",
      "photoUrl": "",
      "userId": "13545140473716287232"
     },
     "user_tz": -330
    },
    "id": "QniH44G7PNMG",
    "outputId": "1e424ce3-f847-4a64-961a-c857c2b1e3c0"
   },
   "outputs": [
    {
     "ename": "SyntaxError",
     "evalue": "ignored",
     "output_type": "error",
     "traceback": [
      "\u001b[0;36m  File \u001b[0;32m\"<ipython-input-16-91f4826aeffe>\"\u001b[0;36m, line \u001b[0;32m4\u001b[0m\n\u001b[0;31m    print t1\u001b[0m\n\u001b[0m           ^\u001b[0m\n\u001b[0;31mSyntaxError\u001b[0m\u001b[0;31m:\u001b[0m Missing parentheses in call to 'print'. Did you mean print(t1)?\n"
     ]
    }
   ],
   "source": [
    "t1=(\"Python\",\"Programming\",1989,2019,\"Machine Learning\",\"A1\")\n",
    "print(t1)\n",
    "del t1\n",
    "print t1"
   ]
  },
  {
   "cell_type": "code",
   "execution_count": 18,
   "metadata": {
    "colab": {
     "base_uri": "https://localhost:8080/",
     "height": 52
    },
    "colab_type": "code",
    "executionInfo": {
     "elapsed": 904,
     "status": "ok",
     "timestamp": 1561527020799,
     "user": {
      "displayName": "Rithika reddy",
      "photoUrl": "",
      "userId": "13545140473716287232"
     },
     "user_tz": -330
    },
    "id": "uEWPPvZUP28M",
    "outputId": "a92c70ac-dfd8-4fd2-c4e8-6367a43716bb"
   },
   "outputs": [
    {
     "name": "stdout",
     "output_type": "stream",
     "text": [
      "('python', 'programming', 1989, 2019, 'ML', 'AI')\n",
      "6\n"
     ]
    }
   ],
   "source": [
    "t1=(\"python\",\"programming\")\n",
    "t2=(1989,2019,\"ML\",\"AI\")\n",
    "t3=t1+t2\n",
    "print(t3)\n",
    "print(len(t3))"
   ]
  },
  {
   "cell_type": "code",
   "execution_count": 24,
   "metadata": {
    "colab": {
     "base_uri": "https://localhost:8080/",
     "height": 105
    },
    "colab_type": "code",
    "executionInfo": {
     "elapsed": 1234,
     "status": "ok",
     "timestamp": 1561531119485,
     "user": {
      "displayName": "Rithika reddy",
      "photoUrl": "",
      "userId": "13545140473716287232"
     },
     "user_tz": -330
    },
    "id": "zO_i3-yzQ47-",
    "outputId": "8fbc0b40-edb7-492c-a0b2-7822e52e8ffc"
   },
   "outputs": [
    {
     "name": "stdout",
     "output_type": "stream",
     "text": [
      "Name:-- Rithika\n",
      "user1[Age]= 18\n",
      "user1[EmailID]= kushiprocks@gmail.com\n",
      "user1[MobileNUmber]= 9640310276\n",
      "Hyderabad\n"
     ]
    }
   ],
   "source": [
    "user1={'Name':'Rithika','Age':18,'EmailID':'kushiprocks@gmail.com','MobileNumber':'9640310276'}\n",
    "print(\"Name:--\",user1['Name'])\n",
    "print(\"user1[Age]=\",user1['Age'])\n",
    "print(\"user1[EmailID]=\",user1['EmailID'])\n",
    "print(\"user1[MobileNUmber]=\",user1['MobileNumber'])\n",
    "user1['Address']='Hyderabad'\n",
    "print(user1['Address'])"
   ]
  },
  {
   "cell_type": "code",
   "execution_count": 0,
   "metadata": {
    "colab": {},
    "colab_type": "code",
    "id": "2khpGTPXd6dm"
   },
   "outputs": [],
   "source": [
    "user1={'Name':'Rithika','Age':18,'EmailID':'kushiprocks@gmail.com','MobileNumber':'9640310276'}\n",
    "del user1['EmailID']\n",
    "user1.clear()\n",
    "del user1"
   ]
  },
  {
   "cell_type": "code",
   "execution_count": 27,
   "metadata": {
    "colab": {
     "base_uri": "https://localhost:8080/",
     "height": 34
    },
    "colab_type": "code",
    "executionInfo": {
     "elapsed": 936,
     "status": "ok",
     "timestamp": 1561533312960,
     "user": {
      "displayName": "Rithika reddy",
      "photoUrl": "",
      "userId": "13545140473716287232"
     },
     "user_tz": -330
    },
    "id": "Vcjd7vLAmOAX",
    "outputId": "463b9f05-c868-4a2d-dacb-2fcd5b66f0da"
   },
   "outputs": [
    {
     "name": "stdout",
     "output_type": "stream",
     "text": [
      "python programming\n"
     ]
    }
   ],
   "source": [
    "lst=['python','programming']\n",
    "print(\"%s %s\"%(lst[0],lst[1]))"
   ]
  },
  {
   "cell_type": "code",
   "execution_count": 35,
   "metadata": {
    "colab": {
     "base_uri": "https://localhost:8080/",
     "height": 70
    },
    "colab_type": "code",
    "executionInfo": {
     "elapsed": 1629,
     "status": "ok",
     "timestamp": 1561540029643,
     "user": {
      "displayName": "Rithika reddy",
      "photoUrl": "",
      "userId": "13545140473716287232"
     },
     "user_tz": -330
    },
    "id": "2C4G3Ccjo4Fa",
    "outputId": "9183c646-a0ca-4d4c-fea8-e41ca155f9cc"
   },
   "outputs": [
    {
     "name": "stdout",
     "output_type": "stream",
     "text": [
      "Contact Anil added\n",
      "Contact Harsha added\n",
      "Contact Anil already exists\n"
     ]
    }
   ],
   "source": [
    "contacts={}\n",
    "def addContact(name,phone):\n",
    "    if name not  in contacts:\n",
    "        contacts[name]=phone\n",
    "        print(\"Contact %s added\" % name)\n",
    "    else:\n",
    "        print(\"Contact %s already exists\" % name)\n",
    "        \n",
    "    return\n",
    "  \n",
    "addContact(\"Anil\",95137521)  \n",
    "addContact(\"Harsha\",996633221)\n",
    "addContact(\"Anil\",9988774466)"
   ]
  },
  {
   "cell_type": "code",
   "execution_count": 36,
   "metadata": {
    "colab": {
     "base_uri": "https://localhost:8080/",
     "height": 87
    },
    "colab_type": "code",
    "executionInfo": {
     "elapsed": 1240,
     "status": "ok",
     "timestamp": 1561540041154,
     "user": {
      "displayName": "Rithika reddy",
      "photoUrl": "",
      "userId": "13545140473716287232"
     },
     "user_tz": -330
    },
    "id": "PBubJ9xABCp9",
    "outputId": "c70a2822-d11d-42f5-a7ba-010af901ed7b"
   },
   "outputs": [
    {
     "name": "stdout",
     "output_type": "stream",
     "text": [
      "Anil    95137521\n",
      "Ajay does not exists\n",
      "Harsha    996633221\n",
      "Kranth does not exists\n"
     ]
    }
   ],
   "source": [
    "def searchContact(name):\n",
    "    if name in contacts:\n",
    "         print(name,\"  \",contacts[name])\n",
    "    else:\n",
    "         print(\"%s does not exists\" % name)\n",
    "    return\n",
    "  \n",
    "searchContact(\"Anil\")\n",
    "searchContact(\"Ajay\")\n",
    "searchContact(\"Harsha\")\n",
    "searchContact(\"Kranth\")"
   ]
  },
  {
   "cell_type": "code",
   "execution_count": 37,
   "metadata": {
    "colab": {
     "base_uri": "https://localhost:8080/",
     "height": 52
    },
    "colab_type": "code",
    "executionInfo": {
     "elapsed": 2061,
     "status": "ok",
     "timestamp": 1561542756912,
     "user": {
      "displayName": "Rithika reddy",
      "photoUrl": "",
      "userId": "13545140473716287232"
     },
     "user_tz": -330
    },
    "id": "qOkI31jhLZ-e",
    "outputId": "7e0b925c-e0cc-4e11-f464-1ef33a63a06a"
   },
   "outputs": [
    {
     "name": "stdout",
     "output_type": "stream",
     "text": [
      "Anil  : Updated with new Phone number\n",
      "Harsha  : Updated with new Phone number\n"
     ]
    }
   ],
   "source": [
    "def updateContact(name,phone):\n",
    "    if name in contacts:\n",
    "        contacts[name]=phone\n",
    "        print(name,\" : Updated with new Phone number\")\n",
    "    else:\n",
    "        print(name,\"Not exists in the contacts\")\n",
    "    return\n",
    "updateContact(\"Anil\",9966552211) \n",
    "updateContact(\"Harsha\",9988774422)"
   ]
  },
  {
   "cell_type": "markdown",
   "metadata": {
    "colab_type": "text",
    "id": "3K7axLHLNXlE"
   },
   "source": [
    "String Formatting"
   ]
  },
  {
   "cell_type": "code",
   "execution_count": 38,
   "metadata": {
    "colab": {
     "base_uri": "https://localhost:8080/",
     "height": 34
    },
    "colab_type": "code",
    "executionInfo": {
     "elapsed": 1708,
     "status": "ok",
     "timestamp": 1561542992411,
     "user": {
      "displayName": "Rithika reddy",
      "photoUrl": "",
      "userId": "13545140473716287232"
     },
     "user_tz": -330
    },
    "id": "_Q4zIDc1NUmd",
    "outputId": "e463da30-28b8-44ee-b8cd-34b6375c7f36"
   },
   "outputs": [
    {
     "name": "stdout",
     "output_type": "stream",
     "text": [
      "Python Programming\n"
     ]
    }
   ],
   "source": [
    "lst=['Python','Programming']\n",
    "print(\"%s %s\"%(lst[0],lst[1]))"
   ]
  },
  {
   "cell_type": "code",
   "execution_count": 39,
   "metadata": {
    "colab": {
     "base_uri": "https://localhost:8080/",
     "height": 34
    },
    "colab_type": "code",
    "executionInfo": {
     "elapsed": 1373,
     "status": "ok",
     "timestamp": 1561543070650,
     "user": {
      "displayName": "Rithika reddy",
      "photoUrl": "",
      "userId": "13545140473716287232"
     },
     "user_tz": -330
    },
    "id": "Hntl7tSYNy_d",
    "outputId": "957dbcb3-1dc1-4dd6-a14a-b041430dafaa"
   },
   "outputs": [
    {
     "name": "stdout",
     "output_type": "stream",
     "text": [
      "Python Programming\n"
     ]
    }
   ],
   "source": [
    "lst=['Python','Programming']\n",
    "print(\"{0} {1}\".format(lst[0],lst[1]))"
   ]
  },
  {
   "cell_type": "code",
   "execution_count": 40,
   "metadata": {
    "colab": {
     "base_uri": "https://localhost:8080/",
     "height": 34
    },
    "colab_type": "code",
    "executionInfo": {
     "elapsed": 1091,
     "status": "ok",
     "timestamp": 1561543256652,
     "user": {
      "displayName": "Rithika reddy",
      "photoUrl": "",
      "userId": "13545140473716287232"
     },
     "user_tz": -330
    },
    "id": "VerPB69sOMy2",
    "outputId": "926d0de5-247c-4c82-e31c-7f94157f42b4"
   },
   "outputs": [
    {
     "name": "stdout",
     "output_type": "stream",
     "text": [
      "1 2 3 4\n"
     ]
    }
   ],
   "source": [
    "lst=[1,2,3,4]\n",
    "print(\"%d %d %d %d\"%(lst[0],lst[1],lst[2],lst[3]))"
   ]
  },
  {
   "cell_type": "code",
   "execution_count": 0,
   "metadata": {
    "colab": {},
    "colab_type": "code",
    "id": "LCpp8hBwSTxe"
   },
   "outputs": [],
   "source": []
  },
  {
   "cell_type": "code",
   "execution_count": 41,
   "metadata": {
    "colab": {
     "base_uri": "https://localhost:8080/",
     "height": 52
    },
    "colab_type": "code",
    "executionInfo": {
     "elapsed": 6390,
     "status": "ok",
     "timestamp": 1561543368940,
     "user": {
      "displayName": "Rithika reddy",
      "photoUrl": "",
      "userId": "13545140473716287232"
     },
     "user_tz": -330
    },
    "id": "9Ln5DRDCOzcV",
    "outputId": "48ebfe91-c22b-4bf4-c4a6-5637be3c0647"
   },
   "outputs": [
    {
     "name": "stdout",
     "output_type": "stream",
     "text": [
      "Value at : 1 Value at : 2\n",
      "Value at : 3 Value at : 4\n"
     ]
    }
   ],
   "source": [
    "lst=[1,2,3,4]\n",
    "print(\"Value at : {0} Value at : {1}\".format(lst[0],lst[1]))\n",
    "print(\"Value at : {0} Value at : {1}\".format(lst[2],lst[3]))"
   ]
  }
 ],
 "metadata": {
  "colab": {
   "name": "26-06-19.ipynb",
   "provenance": [],
   "version": "0.3.2"
  },
  "kernelspec": {
   "display_name": "Python 3",
   "language": "python",
   "name": "python3"
  },
  "language_info": {
   "codemirror_mode": {
    "name": "ipython",
    "version": 3
   },
   "file_extension": ".py",
   "mimetype": "text/x-python",
   "name": "python",
   "nbconvert_exporter": "python",
   "pygments_lexer": "ipython3",
   "version": "3.7.3"
  }
 },
 "nbformat": 4,
 "nbformat_minor": 1
}
